{
 "cells": [
  {
   "cell_type": "code",
   "execution_count": 11,
   "id": "d02f7705-543c-4b93-823d-9b44e63c55af",
   "metadata": {},
   "outputs": [],
   "source": [
    "things = [\"mozarella\", \"cindarella\", \"salmonella\" ]"
   ]
  },
  {
   "cell_type": "code",
   "execution_count": 13,
   "id": "1b4f284d-b919-4adb-83d4-07c6ae6a634f",
   "metadata": {},
   "outputs": [
    {
     "data": {
      "text/plain": [
       "['mozarella', 'cindarella', 'salmonella']"
      ]
     },
     "execution_count": 13,
     "metadata": {},
     "output_type": "execute_result"
    }
   ],
   "source": [
    "things"
   ]
  },
  {
   "cell_type": "code",
   "execution_count": 15,
   "id": "0cebc5ec-ec3a-4c93-9390-ef5132904737",
   "metadata": {},
   "outputs": [],
   "source": [
    "things = [\"mozarella\", \"Cindarella\", \"salmonella\" ]"
   ]
  },
  {
   "cell_type": "code",
   "execution_count": 18,
   "id": "ab961e67-5ee2-4102-9614-e9ce026c8bcd",
   "metadata": {},
   "outputs": [
    {
     "data": {
      "text/plain": [
       "['mozarella', 'Cindarella', 'salmonella']"
      ]
     },
     "execution_count": 18,
     "metadata": {},
     "output_type": "execute_result"
    }
   ],
   "source": [
    "things"
   ]
  },
  {
   "cell_type": "code",
   "execution_count": 22,
   "id": "c2599c91-7380-4ba8-ab67-3c2aa085f622",
   "metadata": {},
   "outputs": [],
   "source": [
    "things = [\"Mozarella\", \"Cindarella\", \"salmonella\" ]"
   ]
  },
  {
   "cell_type": "code",
   "execution_count": 24,
   "id": "9d14f40a-57e9-4524-a51b-3fb33bb67bfb",
   "metadata": {},
   "outputs": [
    {
     "data": {
      "text/plain": [
       "['Mozarella', 'Cindarella', 'salmonella']"
      ]
     },
     "execution_count": 24,
     "metadata": {},
     "output_type": "execute_result"
    }
   ],
   "source": [
    "things"
   ]
  },
  {
   "cell_type": "code",
   "execution_count": 30,
   "id": "4b3a4991-1ddf-4520-9820-b758f27d31ad",
   "metadata": {},
   "outputs": [],
   "source": [
    "things = [\"Mozarella\", \"Cindarella\"]"
   ]
  },
  {
   "cell_type": "code",
   "execution_count": 32,
   "id": "bb1095ac-8328-4c67-bc74-1fa48726c6eb",
   "metadata": {},
   "outputs": [
    {
     "data": {
      "text/plain": [
       "['Mozarella', 'Cindarella']"
      ]
     },
     "execution_count": 32,
     "metadata": {},
     "output_type": "execute_result"
    }
   ],
   "source": [
    "things"
   ]
  },
  {
   "cell_type": "code",
   "execution_count": 34,
   "id": "1be79443-78ce-4091-982c-3afeeaa31d4e",
   "metadata": {},
   "outputs": [],
   "source": [
    "surprise = [\"Groucho\", \"Chico\", \"Harpo\"]"
   ]
  },
  {
   "cell_type": "code",
   "execution_count": 36,
   "id": "62d0d028-b51b-4c06-82a2-3b18ff9267f1",
   "metadata": {},
   "outputs": [
    {
     "data": {
      "text/plain": [
       "['Groucho', 'Chico', 'Harpo']"
      ]
     },
     "execution_count": 36,
     "metadata": {},
     "output_type": "execute_result"
    }
   ],
   "source": [
    "surprise"
   ]
  },
  {
   "cell_type": "code",
   "execution_count": 38,
   "id": "0c301e7e-3b0a-4456-a315-8fbe78087b97",
   "metadata": {},
   "outputs": [],
   "source": [
    "def good():\n",
    "    return ['Harry', 'Ron', 'Hermione']"
   ]
  },
  {
   "cell_type": "code",
   "execution_count": 40,
   "id": "5f79e902-b1cc-4e28-ad7c-15b5c13e66fe",
   "metadata": {},
   "outputs": [
    {
     "data": {
      "text/plain": [
       "['Harry', 'Ron', 'Hermione']"
      ]
     },
     "execution_count": 40,
     "metadata": {},
     "output_type": "execute_result"
    }
   ],
   "source": [
    "good()"
   ]
  },
  {
   "cell_type": "code",
   "execution_count": 61,
   "id": "a9f93268-6ce2-4f57-bf01-33488873a76d",
   "metadata": {},
   "outputs": [],
   "source": [
    "def get_odds():\n",
    "    for x in range(10):\n",
    "        if x % 2 != 0:\n",
    "            yield x\n",
    "        "
   ]
  },
  {
   "cell_type": "code",
   "execution_count": 63,
   "id": "4e63aacb-4e25-45d6-b9aa-d784b0583b78",
   "metadata": {},
   "outputs": [
    {
     "name": "stdout",
     "output_type": "stream",
     "text": [
      "3\n"
     ]
    }
   ],
   "source": [
    "for i in get_odds():\n",
    "    if i == 3:\n",
    "        print(i)\n",
    "        break\n",
    "    "
   ]
  },
  {
   "cell_type": "code",
   "execution_count": null,
   "id": "24270de6-4abc-43fa-8978-be29b3ec722f",
   "metadata": {},
   "outputs": [],
   "source": []
  },
  {
   "cell_type": "code",
   "execution_count": null,
   "id": "d3248b42-402d-4aa0-bc3f-374e8a6d45bd",
   "metadata": {},
   "outputs": [],
   "source": []
  }
 ],
 "metadata": {
  "kernelspec": {
   "display_name": "Python 3 (ipykernel)",
   "language": "python",
   "name": "python3"
  },
  "language_info": {
   "codemirror_mode": {
    "name": "ipython",
    "version": 3
   },
   "file_extension": ".py",
   "mimetype": "text/x-python",
   "name": "python",
   "nbconvert_exporter": "python",
   "pygments_lexer": "ipython3",
   "version": "3.12.4"
  }
 },
 "nbformat": 4,
 "nbformat_minor": 5
}

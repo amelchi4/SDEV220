{
 "cells": [
  {
   "cell_type": "code",
   "execution_count": 4,
   "id": "6c29df7b-fae8-47f5-8e01-0bc1fa9d7e1c",
   "metadata": {},
   "outputs": [],
   "source": [
    "class Solution:\n",
    "    # Function to sort an array of 0s, 1s, and 2s\n",
    "    def sort012(self, arr):\n",
    "        low, mid, high = 0, 0, len(arr) - 1\n",
    "\n",
    "        # Using the Dutch National Flag algorithm\n",
    "        while mid <= high:\n",
    "            if arr[mid] == 0:\n",
    "                arr[low], arr[mid] = arr[mid], arr[low]  # Swap the elements\n",
    "                low += 1\n",
    "                mid += 1\n",
    "            elif arr[mid] == 1:\n",
    "                mid += 1\n",
    "            else:\n",
    "                arr[mid], arr[high] = arr[high], arr[mid]  # Swap the elements\n",
    "                high -= 1"
   ]
  },
  {
   "cell_type": "code",
   "execution_count": null,
   "id": "2b3342be-5ccf-4e90-97df-a1fbf8541a32",
   "metadata": {},
   "outputs": [],
   "source": []
  },
  {
   "cell_type": "code",
   "execution_count": null,
   "id": "9a810f68-55f5-4494-93b7-b753ae728937",
   "metadata": {},
   "outputs": [],
   "source": []
  }
 ],
 "metadata": {
  "kernelspec": {
   "display_name": "Python 3 (ipykernel)",
   "language": "python",
   "name": "python3"
  },
  "language_info": {
   "codemirror_mode": {
    "name": "ipython",
    "version": 3
   },
   "file_extension": ".py",
   "mimetype": "text/x-python",
   "name": "python",
   "nbconvert_exporter": "python",
   "pygments_lexer": "ipython3",
   "version": "3.12.4"
  }
 },
 "nbformat": 4,
 "nbformat_minor": 5
}

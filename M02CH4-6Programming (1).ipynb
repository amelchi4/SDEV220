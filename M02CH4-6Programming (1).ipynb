{
 "cells": [
  {
   "cell_type": "code",
   "execution_count": 7,
   "id": "c588073f-dda0-412c-a9b6-e0bd68c14aa3",
   "metadata": {},
   "outputs": [],
   "source": [
    "guess = 8"
   ]
  },
  {
   "cell_type": "code",
   "execution_count": 9,
   "id": "f495b30a-5088-4f6d-a5b0-9f1a739670c2",
   "metadata": {},
   "outputs": [],
   "source": [
    "secret = 2"
   ]
  },
  {
   "cell_type": "code",
   "execution_count": 11,
   "id": "f439e84a-9197-40a2-ba32-ac33527d26f9",
   "metadata": {},
   "outputs": [
    {
     "name": "stdout",
     "output_type": "stream",
     "text": [
      "Too High\n"
     ]
    }
   ],
   "source": [
    "if guess  < secret:\n",
    "    print(\"Too low\")\n",
    "elif guess  > secret:\n",
    "    print(\"Too High\")\n",
    "else:\n",
    "    print(\"Just Right\")\n",
    "    "
   ]
  },
  {
   "cell_type": "code",
   "execution_count": 26,
   "id": "798a6c6f-5b23-431e-8498-c5682cc234bc",
   "metadata": {},
   "outputs": [],
   "source": [
    "green = False"
   ]
  },
  {
   "cell_type": "code",
   "execution_count": 28,
   "id": "6406fe90-0978-4ae7-98ee-b4e4d85cf287",
   "metadata": {},
   "outputs": [],
   "source": [
    "small = True"
   ]
  },
  {
   "cell_type": "code",
   "execution_count": 30,
   "id": "d3ce1658-abc2-405b-9854-256e40aa810d",
   "metadata": {},
   "outputs": [
    {
     "name": "stdout",
     "output_type": "stream",
     "text": [
      "cherry\n"
     ]
    }
   ],
   "source": [
    "if small and green:\n",
    "    print(\"pea\")\n",
    "elif small and not green:\n",
    "    print(\"cherry\")\n",
    "elif not small and not green:\n",
    "    print(\"pumpkin\")\n",
    "else:\n",
    "    print(\"watermelon\")"
   ]
  },
  {
   "cell_type": "code",
   "execution_count": 46,
   "id": "849d39db-1935-4aa2-9f75-9a492c9f10a7",
   "metadata": {},
   "outputs": [],
   "source": [
    "list = [3,2,1,0]"
   ]
  },
  {
   "cell_type": "code",
   "execution_count": 48,
   "id": "14232a60-5a04-431e-bf57-b8f4f7f08de9",
   "metadata": {},
   "outputs": [
    {
     "name": "stdout",
     "output_type": "stream",
     "text": [
      "3\n",
      "2\n",
      "1\n",
      "0\n"
     ]
    }
   ],
   "source": [
    "for num in list:\n",
    "    print(num)"
   ]
  },
  {
   "cell_type": "code",
   "execution_count": 56,
   "id": "f883ce02-28a2-4f0e-9372-df898e666fd7",
   "metadata": {},
   "outputs": [],
   "source": [
    "guess_me = 7"
   ]
  },
  {
   "cell_type": "code",
   "execution_count": 58,
   "id": "0d484baa-523c-47ca-b0e4-99b570a7ee0b",
   "metadata": {},
   "outputs": [],
   "source": [
    "number = 1"
   ]
  },
  {
   "cell_type": "code",
   "execution_count": 60,
   "id": "78c8c0e0-8c15-4302-beab-f18e4980dcd8",
   "metadata": {},
   "outputs": [
    {
     "name": "stdout",
     "output_type": "stream",
     "text": [
      "Too Low\n",
      "Too Low\n",
      "Too Low\n",
      "Too Low\n",
      "Too Low\n",
      "Too Low\n",
      "Found it!\n"
     ]
    }
   ],
   "source": [
    "while True:\n",
    "    if number < guess_me:\n",
    "        print(\"Too Low\")\n",
    "    elif number == guess_me:\n",
    "        print(\"Found it!\")\n",
    "        break\n",
    "    else: \n",
    "        print(\"oops\")\n",
    "        break\n",
    "    number += 1\n"
   ]
  },
  {
   "cell_type": "code",
   "execution_count": 66,
   "id": "c896f6cb-1b13-42a1-8dbe-3ccfd66ff9d1",
   "metadata": {},
   "outputs": [],
   "source": [
    "guess_me = 5"
   ]
  },
  {
   "cell_type": "code",
   "execution_count": 68,
   "id": "be0d32af-829a-47a4-bd28-ea943b298dad",
   "metadata": {},
   "outputs": [
    {
     "name": "stdout",
     "output_type": "stream",
     "text": [
      "Too low\n",
      "Too low\n",
      "Too low\n",
      "Too low\n",
      "Too low\n",
      "Found it!\n"
     ]
    }
   ],
   "source": [
    "for num in range(10):\n",
    "    if num < guess_me:\n",
    "        print(\"Too low\")\n",
    "    elif num == guess_me:\n",
    "        print(\"Found it!\")\n",
    "        break\n",
    "    else:\n",
    "        print(\"Oops\")\n",
    "        break"
   ]
  },
  {
   "cell_type": "code",
   "execution_count": null,
   "id": "51efe8ee-80f8-452e-bef7-4495d69bad85",
   "metadata": {},
   "outputs": [],
   "source": []
  }
 ],
 "metadata": {
  "kernelspec": {
   "display_name": "Python 3 (ipykernel)",
   "language": "python",
   "name": "python3"
  },
  "language_info": {
   "codemirror_mode": {
    "name": "ipython",
    "version": 3
   },
   "file_extension": ".py",
   "mimetype": "text/x-python",
   "name": "python",
   "nbconvert_exporter": "python",
   "pygments_lexer": "ipython3",
   "version": "3.12.4"
  }
 },
 "nbformat": 4,
 "nbformat_minor": 5
}
